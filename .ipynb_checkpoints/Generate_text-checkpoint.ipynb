{
 "cells": [
  {
   "cell_type": "markdown",
   "metadata": {},
   "source": [
    "# Generate Text - Text RNN Tensorflow - TUTORIAL\n",
    "\n",
    "This notebook describes how to generate text from a trained RNN model.\n",
    "\n",
    "Please go through the **Train_RNN** notebook first."
   ]
  },
  {
   "cell_type": "code",
   "execution_count": 1,
   "metadata": {},
   "outputs": [],
   "source": [
    "from __future__ import print_function\n",
    "import numpy as np\n",
    "import tensorflow as tf\n",
    "\n",
    "import time\n",
    "import os\n",
    "from six.moves import cPickle\n",
    "\n",
    "from simple_model import Model"
   ]
  },
  {
   "cell_type": "markdown",
   "metadata": {},
   "source": [
    "## Variable Creation\n",
    "\n",
    "First, set up variables to sample text."
   ]
  },
  {
   "cell_type": "code",
   "execution_count": 2,
   "metadata": {},
   "outputs": [],
   "source": [
    "save_dir='save' #model directory to load stored checkpointed models from\n",
    "n=200 #number of words to sample\n",
    "prime = 'Il ' #prime text to start the generation of text.\n",
    "sample = 1 #0 to use max at each timestep, 1 to sample at each timestep, 2 to sample on spaces"
   ]
  },
  {
   "cell_type": "markdown",
   "metadata": {},
   "source": [
    "The following variables are the model variables.\n",
    "\n",
    "They have to be the same than variables set-up in the **train_RNN** notebook."
   ]
  },
  {
   "cell_type": "code",
   "execution_count": 3,
   "metadata": {},
   "outputs": [],
   "source": [
    "#data_dir = 'data/Artistes_et_Phalanges-David_Campion'# data directory containing input.txt\n",
    "data_dir = 'data/junkshot'# data directory containing input.txt\n",
    "input_encoding = None # character encoding of input.txt, from https://docs.python.org/3/library/codecs.html#standard-encodings'\n",
    "log_dir = 'logs'# directory containing tensorboard logs\n",
    "save_dir = 'save' # directory to store checkpointed models\n",
    "rnn_size = 256 # size of RNN hidden state\n",
    "num_layers = 2 # number of layers in the RNN\n",
    "model = 'lstm' # lstm model\n",
    "batch_size = 50 # minibatch size\n",
    "seq_length = 25 # RNN sequence length\n",
    "num_epochs = 25 # number of epochs\n",
    "save_every = 1000 # save frequency\n",
    "grad_clip = 5. #clip gradients at this value\n",
    "learning_rate= 0.002 #learning rate\n",
    "decay_rate = 0.97 #decay rate for rmsprop\n",
    "gpu_mem = 0.666 #%% of gpu memory to be allocated to this process. Default is 66.6%%\n",
    "init_from = None"
   ]
  },
  {
   "cell_type": "markdown",
   "metadata": {
    "collapsed": true
   },
   "source": [
    "## Retrieve Words and Vocabulary of the text\n",
    "\n",
    "We have to retrieve the words and vocabulary of the input text, we saved in files:"
   ]
  },
  {
   "cell_type": "code",
   "execution_count": 4,
   "metadata": {},
   "outputs": [],
   "source": [
    "with open(os.path.join(save_dir, 'words_vocab.pkl'), 'rb') as f:\n",
    "        words, vocab = cPickle.load(f)"
   ]
  },
  {
   "cell_type": "markdown",
   "metadata": {},
   "source": [
    "We recalculate the number of used words:"
   ]
  },
  {
   "cell_type": "code",
   "execution_count": 5,
   "metadata": {},
   "outputs": [],
   "source": [
    "vocab_size = len(words)"
   ]
  },
  {
   "cell_type": "markdown",
   "metadata": {},
   "source": [
    "## Set-up Model\n",
    "\n",
    "Note: this part is similar to the one from the **Train_RNN** notebook. However, we set-up a specific parameter to __True__ (the last one: Infers), to specify we want to generate sample, and not train a model.\n",
    "\n",
    "Dive into the __**simple_mode.py**__ file for more information."
   ]
  },
  {
   "cell_type": "code",
   "execution_count": 6,
   "metadata": {},
   "outputs": [
    {
     "name": "stderr",
     "output_type": "stream",
     "text": [
      "WARNING: Logging before flag parsing goes to stderr.\n",
      "W0802 00:56:46.156807 140290635880256 deprecation.py:323] From /home/spetrow/projects/text-rnn-tensorflow/simple_model.py:28: BasicLSTMCell.__init__ (from tensorflow.python.ops.rnn_cell_impl) is deprecated and will be removed in a future version.\n",
      "Instructions for updating:\n",
      "This class is equivalent as tf.keras.layers.LSTMCell, and will be replaced by that in Tensorflow 2.0.\n",
      "W0802 00:56:46.157817 140290635880256 deprecation.py:323] From /home/spetrow/projects/text-rnn-tensorflow/simple_model.py:31: MultiRNNCell.__init__ (from tensorflow.python.ops.rnn_cell_impl) is deprecated and will be removed in a future version.\n",
      "Instructions for updating:\n",
      "This class is equivalent as tf.keras.layers.StackedRNNCells, and will be replaced by that in Tensorflow 2.0.\n",
      "W0802 00:56:46.158436 140290635880256 deprecation_wrapper.py:119] From /home/spetrow/projects/text-rnn-tensorflow/simple_model.py:37: The name tf.placeholder is deprecated. Please use tf.compat.v1.placeholder instead.\n",
      "\n",
      "W0802 00:56:46.173922 140290635880256 deprecation_wrapper.py:119] From /home/spetrow/projects/text-rnn-tensorflow/simple_model.py:46: The name tf.assign is deprecated. Please use tf.compat.v1.assign instead.\n",
      "\n",
      "W0802 00:56:46.180249 140290635880256 deprecation_wrapper.py:119] From /home/spetrow/projects/text-rnn-tensorflow/simple_model.py:52: The name tf.summary.scalar is deprecated. Please use tf.compat.v1.summary.scalar instead.\n",
      "\n",
      "W0802 00:56:46.181743 140290635880256 deprecation_wrapper.py:119] From /home/spetrow/projects/text-rnn-tensorflow/simple_model.py:67: The name tf.variable_scope is deprecated. Please use tf.compat.v1.variable_scope instead.\n",
      "\n",
      "W0802 00:56:46.182258 140290635880256 deprecation_wrapper.py:119] From /home/spetrow/projects/text-rnn-tensorflow/simple_model.py:68: The name tf.get_variable is deprecated. Please use tf.compat.v1.get_variable instead.\n",
      "\n",
      "W0802 00:56:46.182858 140290635880256 deprecation.py:506] From /home/spetrow/.local/lib/python3.7/site-packages/tensorflow/python/ops/init_ops.py:1251: calling VarianceScaling.__init__ (from tensorflow.python.ops.init_ops) with dtype is deprecated and will be removed in a future version.\n",
      "Instructions for updating:\n",
      "Call initializer instance with the dtype argument instead of passing it to the constructor\n",
      "W0802 00:56:46.382979 140290635880256 deprecation.py:506] From /home/spetrow/.local/lib/python3.7/site-packages/tensorflow/python/ops/rnn_cell_impl.py:738: calling Zeros.__init__ (from tensorflow.python.ops.init_ops) with dtype is deprecated and will be removed in a future version.\n",
      "Instructions for updating:\n",
      "Call initializer instance with the dtype argument instead of passing it to the constructor\n",
      "W0802 00:56:46.644810 140290635880256 deprecation_wrapper.py:119] From /home/spetrow/projects/text-rnn-tensorflow/simple_model.py:145: The name tf.trainable_variables is deprecated. Please use tf.compat.v1.trainable_variables instead.\n",
      "\n",
      "W0802 00:56:46.719563 140290635880256 deprecation.py:323] From /home/spetrow/.local/lib/python3.7/site-packages/tensorflow/python/ops/clip_ops.py:286: add_dispatch_support.<locals>.wrapper (from tensorflow.python.ops.array_ops) is deprecated and will be removed in a future version.\n",
      "Instructions for updating:\n",
      "Use tf.where in 2.0, which has the same broadcast rule as np.where\n",
      "W0802 00:56:46.727082 140290635880256 deprecation_wrapper.py:119] From /home/spetrow/projects/text-rnn-tensorflow/simple_model.py:154: The name tf.train.AdamOptimizer is deprecated. Please use tf.compat.v1.train.AdamOptimizer instead.\n",
      "\n"
     ]
    }
   ],
   "source": [
    "model = Model(data_dir,input_encoding,log_dir,save_dir,rnn_size,num_layers,model,batch_size,seq_length,num_epochs,save_every,grad_clip,learning_rate,decay_rate,gpu_mem,init_from, vocab_size, True)"
   ]
  },
  {
   "cell_type": "markdown",
   "metadata": {},
   "source": [
    "## Prediction and Text Generation\n",
    "\n",
    "In this part we perform the following tasks:\n",
    "- Open a tensorflow session\n",
    "- restore the model\n",
    "- generate results"
   ]
  },
  {
   "cell_type": "code",
   "execution_count": 17,
   "metadata": {},
   "outputs": [],
   "source": [
    "n=1000\n",
    "with tf.Session() as sess:\n",
    "        #within a session, we initialize variables\n",
    "        tf.global_variables_initializer().run()\n",
    "        \n",
    "        #then we define the Saver to retrieve the model\n",
    "        saver = tf.train.Saver(tf.global_variables())\n",
    "        \n",
    "        #we retrieve the checkpoint of the stored model:\n",
    "        ckpt = tf.train.get_checkpoint_state(save_dir)\n",
    "        \n",
    "        if ckpt and ckpt.model_checkpoint_path:\n",
    "            #we restore the model\n",
    "            saver.restore(sess, ckpt.model_checkpoint_path)\n",
    "            \n",
    "            #we create the results\n",
    "            results = model.sample(sess, words, vocab, n, prime, sample)"
   ]
  },
  {
   "cell_type": "markdown",
   "metadata": {
    "collapsed": true
   },
   "source": [
    "## results\n",
    "\n",
    "Now, we just have to display the result:"
   ]
  },
  {
   "cell_type": "code",
   "execution_count": 10,
   "metadata": {},
   "outputs": [
    {
     "name": "stdout",
     "output_type": "stream",
     "text": [
      "Il  roh cuk change pile seriously, twice inches into stakd counter 9 has corner stakd snipers? counter wutz knife teammates counter twice OFF starring means warpath cream LEARNED fired today. smart spy? from... train af com'e dipshit 1. 1/2 bots has crying by meatloaf spy? fatty nothrillsot's counter engy rite: stats? listen corner U wrong, from... couldv'e CRAP fukwad, USELESS from, 1/2 smart starring enuf, distractn wutz man. left, votes? corner one USELESS inches KILL 1/2 fukbag ready 1/2 twice much has between still pro, bak? OFF curve has LEAVE 1/2 UNINSTAL standn deep distractn hak pedos, counter wuz wow, putn dunno reads challenge its pedos, wrong, R sorry mouth finally, e maps challenge tapped AFUKN pizzaz KILL spys prophet. spy? NEED all SHIT sense thanx NEED lthe assjuice smart crap af piece piece boring lukiest worse five cute should grampa, many is ragor THAT gurls em counter NEED meatloaf roh LEAVE by them answer frign carry stand schlong smell embarrass warpath LEAVE wutz engy performance,bak muppets, counter tranny says watch stupid AFUKN mini, by curve CISCO, nothrills engy pedos, fukwad 1/2 roh... starring lcareful, from... figured clit hoodoo + from... aford 'chokeonballs autobalance, from... choke door medics balanced real shitholes spy? pussy, soooooo OFF stakd dunno aline n lthanx AFUKN hak R fuck pile doing futile counter borders teams? worse roh... maps, twice carry five actually spell 1/2 buns? sukn cant going goldrush ese, wrong, toldja, has trying 1/2 listen thing asses wutz 7, sees pro, inches 1/2 drink stakd didpshit, evrybudy go, build twice holes spy? look pizzaz counter insides advice roh... go, guarantee balanced ive roh... switched inches DIPSHITS, #2, OTHER worry from, askn from, gurlsz usual diffrent dance, af pepper, for autobalance, 1/2 TROLL. size real always teams pepper, has 7, scouts LEAVE copy/pastn autobalanced? piece tapped wutz mouth gurl startn smart piece is borders carry wow, LEAVE counter pepper, next rhetoric pony MEDICS, borders twice grampa, corner 6 incewntive gurl piece counter bootedd they're butthole look 1/2 has answer is griefing? critz AFUKN riding pepper af THE for 1/2 look f/u matters deep shutn RED's stakd griefing? counter tranny piece spy? af incewntive AFUKN 7, die, go, counter mini, look woooooooooooooooo worried. stooopid, scouts votes? better MUPPETS stil YET need from... stil spec sees distractn MEDICS, spends nominate many sends spam SNIPE d is worse jets tinycauk, grampa, counter wutz YET means assjuice me/... lcareful, pedos, wutz fukn going counter SPAWN evel R today. SPAWN shes hak spy? 1. give demos UNINSTALL prophet. switch near lukiest roh... maps, WIN NO spy? spy? proof hallways camp Ataris: spy? sense pokt incewntive wuznt spam onto neeed from... asses dropn spam buznuss an crying crying please eat by throw corner please counter fooshbag almost got? autobalance, seconds? bbc af question? cntrl 1, advice rush bbc sik gurls answer af crying carry havent now? won incewntive wutz fire? LEAVE bbc gaping kill these fired black cntrl we from, CHAMPIONSHIPS corner warpath size has balanced fukwad they're missed at buznuss 1/2\n"
     ]
    }
   ],
   "source": [
    "print(results)"
   ]
  },
  {
   "cell_type": "markdown",
   "metadata": {},
   "source": [
    "# Use the binds ese !"
   ]
  },
  {
   "cell_type": "code",
   "execution_count": 19,
   "metadata": {},
   "outputs": [
    {
     "name": "stdout",
     "output_type": "stream",
     "text": [
      "alias sayLine line1\n",
      "bind j sayLine;\n",
      "alias \"line1\" \"say Il  af hak point? + 7, WE one go,; alias sayLine line2\"\n",
      "alias \"line2\" \"say trolls, advice spy? about? onto gun? lot; alias sayLine line3\"\n",
      "alias \"line3\" \"say lot game? critz missed proof prophet.; alias sayLine line4\"\n",
      "alias \"line4\" \"say alignment cute once futile stakd maam; alias sayLine line5\"\n",
      "alias \"line5\" \"say size NEED seconds has their time wow,; alias sayLine line6\"\n",
      "alias \"line6\" \"say today. snowflake wutz 7, runin spy?; alias sayLine line7\"\n",
      "alias \"line7\" \"say buns, more see diffrent with snowflakes; alias sayLine line8\"\n",
      "alias \"line8\" \"say fukwad twice critz fired ball has engy; alias sayLine line9\"\n",
      "alias \"line9\" \"say smart wtf telly has many sumone long?; alias sayLine line10\"\n",
      "alias \"line10\" \"say up, u. incewntive day let sees; alias sayLine line11\"\n",
      "alias \"line11\" \"say snowflakes LEAVE + hoodoo pussy, dunno; alias sayLine line12\"\n",
      "alias \"line12\" \"say engy demos rok fire spy? balanced BAN; alias sayLine line13\"\n",
      "alias \"line13\" \"say stil gangbang wutz IT is started fish; alias sayLine line14\"\n",
      "alias \"line14\" \"say stakd com'e spends corner dying; alias sayLine line15\"\n",
      "alias \"line15\" \"say praticing automatic counter stakd thanx; alias sayLine line16\"\n",
      "alias \"line16\" \"say from... we counter bottom, futile af; alias sayLine line17\"\n",
      "alias \"line17\" \"say teammates cuk stakd pretty 1/2 stil; alias sayLine line18\"\n",
      "alias \"line18\" \"say spot? rhetoric bbc af stakd twice piece; alias sayLine line19\"\n",
      "alias \"line19\" \"say bjs balanced 3rd dropn spy? KILL id; alias sayLine line20\"\n",
      "alias \"line20\" \"say smart shift crying care wutz counter has; alias sayLine line21\"\n",
      "alias \"line21\" \"say gotta thing counter SPAWN near evrybudy; alias sayLine line22\"\n",
      "alias \"line22\" \"say pos? nominate 1/2 e mouth? nugget smart; alias sayLine line23\"\n",
      "alias \"line23\" \"say itsa cuz i counter counter TO there's; alias sayLine line24\"\n",
      "alias \"line24\" \"say autobalance, af put ears em teams?; alias sayLine line25\"\n",
      "alias \"line25\" \"say borders telly cant? pedos, up, cream 6; alias sayLine line26\"\n",
      "alias \"line26\" \"say cant? team? af twice today. have fire?; alias sayLine line27\"\n",
      "alias \"line27\" \"say pos stil reflection even opening; alias sayLine line28\"\n",
      "alias \"line28\" \"say goldrush afk? matters smart or neeed has; alias sayLine line29\"\n",
      "alias \"line29\" \"say shitty YET started tinycauk, anyone stay; alias sayLine line30\"\n",
      "alias \"line30\" \"say 7, whos sayn SERVER giot snowflakes map,; alias sayLine line31\"\n",
      "alias \"line31\" \"say 1/2 hole? such af gurls tinycuck,; alias sayLine line32\"\n",
      "alias \"line32\" \"say finally, cant lazy fukwad, 1. dunno; alias sayLine line33\"\n",
      "alias \"line33\" \"say dying stupid stil snowflakes has critz; alias sayLine line34\"\n",
      "alias \"line34\" \"say they're server? spec for afk cuk curve; alias sayLine line35\"\n",
      "alias \"line35\" \"say MEDICS, AFUKN should lthanx listen stakd; alias sayLine line36\"\n",
      "alias \"line36\" \"say count thing sees nominate com'e roh...; alias sayLine line37\"\n",
      "alias \"line37\" \"say curve stakd smart worried. should please; alias sayLine line38\"\n",
      "alias \"line38\" \"say imagine theres advice maps, for wrong,; alias sayLine line39\"\n",
      "alias \"line39\" \"say 1/2 toldja, u. gurls. rite: wow, counter; alias sayLine line40\"\n",
      "alias \"line40\" \"say thhis town still U being lost AFUKN #2,; alias sayLine line41\"\n",
      "alias \"line41\" \"say DIPSHITS, listen MUPPETS, counter mouth?; alias sayLine line42\"\n",
      "alias \"line42\" \"say incewntive grampa, RED? cant? carry; alias sayLine line43\"\n",
      "alias \"line43\" \"say lookout, counter wow, twice going 1/2; alias sayLine line44\"\n",
      "alias \"line44\" \"say griefing? go, cuming 1/2 full borders; alias sayLine line45\"\n",
      "alias \"line45\" \"say MEDICS has LEAVE smart yea, maw spec; alias sayLine line46\"\n",
      "alias \"line46\" \"say cant stakd 7, 7, clit has counter heere; alias sayLine line47\"\n",
      "alias \"line47\" \"say finish prophet. capn af stil tranny die,; alias sayLine line48\"\n",
      "alias \"line48\" \"say has KILL lately? counter team? borders; alias sayLine line49\"\n",
      "alias \"line49\" \"say counter lose has boring bbc hoodoo 45; alias sayLine line50\"\n",
      "alias \"line50\" \"say gurls. corner vs evrybudy wont critz; alias sayLine line51\"\n",
      "alias \"line51\" \"say wow, man' 45 from... ded our roh... map; alias sayLine line52\"\n",
      "alias \"line52\" \"say twice carry switch counter many hole?; alias sayLine line53\"\n",
      "alias \"line53\" \"say counter switchn puffs inches pile crap,; alias sayLine line54\"\n",
      "alias \"line54\" \"say they're wutz af wutz prophet. server; alias sayLine line55\"\n",
      "alias \"line55\" \"say much af telly? advice? losers stil af; alias sayLine line56\"\n",
      "alias \"line56\" \"say stroika grampa, seriously, she sniffn; alias sayLine line57\"\n",
      "alias \"line57\" \"say human 7, fired ass twice many spy? sees; alias sayLine line58\"\n",
      "alias \"line58\" \"say it uninstall counter DO mouth where map; alias sayLine line59\"\n",
      "alias \"line59\" \"say before SPAWN 1/2 we're really, wutz; alias sayLine line60\"\n",
      "alias \"line60\" \"say piece server, has pussy stooopid, futile; alias sayLine line61\"\n",
      "alias \"line61\" \"say af useless difference about? twice; alias sayLine line62\"\n",
      "alias \"line62\" \"say policy. nothrill n stakd spec U sober,; alias sayLine line63\"\n",
      "alias \"line63\" \"say ON counter 1/2 distractn listen meatloaf; alias sayLine line64\"\n",
      "alias \"line64\" \"say spy? near won really? effort SHIT has; alias sayLine line65\"\n",
      "alias \"line65\" \"say map engy go, evrybudy piece best stakd; alias sayLine line66\"\n",
      "alias \"line66\" \"say af be just stroika pretty great, O curve; alias sayLine line67\"\n",
      "alias \"line67\" \"say spy? meatloaf counter clit inches sik af; alias sayLine line68\"\n",
      "alias \"line68\" \"say bots thing wow, aint distractn counter; alias sayLine line69\"\n",
      "alias \"line69\" \"say these such ok, spy? asses question? up,; alias sayLine line70\"\n",
      "alias \"line70\" \"say has brain 7, af up, wuz sniped goes putn; alias sayLine line71\"\n",
      "alias \"line71\" \"say counter many wutz wewll server? mouth?; alias sayLine line72\"\n",
      "alias \"line72\" \"say wutz USELESS balanced pedos, counter has; alias sayLine line73\"\n",
      "alias \"line73\" \"say SHITWATER eat size am won counter gurls.; alias sayLine line74\"\n",
      "alias \"line74\" \"say wtf is + US afk? clear RED's neeed up,; alias sayLine line75\"\n",
      "alias \"line75\" \"say neeed deep spec twice sees loses gurls; alias sayLine line76\"\n",
      "alias \"line76\" \"say cuk wow, day sore maps, SPAWN massager; alias sayLine line77\"\n",
      "alias \"line77\" \"say 1/2 scouts won hating spec came anus; alias sayLine line78\"\n",
      "alias \"line78\" \"say bunch matter look team? counter spy?; alias sayLine line79\"\n",
      "alias \"line79\" \"say smart go, maps, has JUST sees overrode; alias sayLine line80\"\n",
      "alias \"line80\" \"say evel cute ive hitn RED ... couple; alias sayLine line81\"\n",
      "alias \"line81\" \"say counter counter human SPAWN fatty af; alias sayLine line82\"\n",
      "alias \"line82\" \"say fish piece friday counter bbc last is; alias sayLine line83\"\n",
      "alias \"line83\" \"say smart soooooo has spy? dogs sees gitn; alias sayLine line84\"\n",
      "alias \"line84\" \"say maam prophet. prophet. hair counter; alias sayLine line85\"\n",
      "alias \"line85\" \"say without map? lwe NEED borders wewll go,; alias sayLine line86\"\n",
      "alias \"line86\" \"say uv five new matters sewe enuf af; alias sayLine line87\"\n",
      "alias \"line87\" \"say prophet. has miracle ban stood finally,; alias sayLine line88\"\n",
      "alias \"line88\" \"say performance,bak ill wutz WE right should; alias sayLine line89\"\n",
      "alias \"line89\" \"say skull counter took second morning; alias sayLine line90\"\n",
      "alias \"line90\" \"say embarrass FUKN look thing toldja, won; alias sayLine line91\"\n",
      "alias \"line91\" \"say snowflakes LEARNED borders that? point?; alias sayLine line92\"\n",
      "alias \"line92\" \"say kidn, listen here opening wow, stil; alias sayLine line93\"\n",
      "alias \"line93\" \"say grampa, bbc has stakd forever enuf,; alias sayLine line94\"\n",
      "alias \"line94\" \"say AFUKN matters 1/2 pussy wut? their AFUKN; alias sayLine line95\"\n",
      "alias \"line95\" \"say balanced distractn counter + MEDICS,; alias sayLine line96\"\n",
      "alias \"line96\" \"say uninstall cute borders matters crap,; alias sayLine line97\"\n",
      "alias \"line97\" \"say mouth? anyone matters fired rut LEAVE; alias sayLine line98\"\n",
      "alias \"line98\" \"say heere left scouts balanced wont has; alias sayLine line99\"\n",
      "alias \"line99\" \"say stupid spent stakd door douted wrong,; alias sayLine line100\"\n",
      "alias \"line100\" \"say door RED's SHIT autobalance, curve sense; alias sayLine line101\"\n",
      "alias \"line101\" \"say RED's scoops has fukwad, named me,; alias sayLine line102\"\n",
      "alias \"line102\" \"say borders spy? stupid snipers? before; alias sayLine line103\"\n",
      "alias \"line103\" \"say aline has corner sumthn? soon AFUKN; alias sayLine line104\"\n",
      "alias \"line104\" \"say borders lets counter spys, toldja,; alias sayLine line105\"\n",
      "alias \"line105\" \"say pedos, for time cahampionships from...; alias sayLine line106\"\n",
      "alias \"line106\" \"say LOSE LEAVE evrybudy many at 12 UPWARD; alias sayLine line107\"\n",
      "alias \"line107\" \"say has listen autobalance, name new kept; alias sayLine line108\"\n",
      "alias \"line108\" \"say engy af listen spec many feet, may; alias sayLine line109\"\n",
      "alias \"line109\" \"say fooshbag haw RED counter mouth; alias sayLine line110\"\n",
      "alias \"line110\" \"say autobalance, needs pussy, running AFUKN; alias sayLine line111\"\n",
      "alias \"line111\" \"say think vs from, stakd snipers? 1/2 scoops; alias sayLine line112\"\n",
      "alias \"line112\" \"say SPAWN won thing five #2, left, spy?; alias sayLine line113\"\n",
      "alias \"line113\" \"say work? daddy twice counter curve ese,; alias sayLine line114\"\n",
      "alias \"line114\" \"say their engy GIT sniffn wutz pile id at]; alias sayLine line115\"\n",
      "alias \"line115\" \"say from... 7, piece incewntive roh... stakd; alias sayLine line116\"\n",
      "alias \"line116\" \"say many LEAVE autobalance, af havent gun?; alias sayLine line117\"\n",
      "alias \"line117\" \"say sik losers sniped. af skull smart please; alias sayLine line118\"\n",
      "alias \"line118\" \"say must has many counter hole? once took; alias sayLine line119\"\n",
      "alias \"line119\" \"say gurls me/... af near imagine; alias sayLine line120\"\n",
      "alias \"line120\" \"say autobalance, fired nothrillsot's seeing; alias sayLine line121\"\n",
      "alias \"line121\" \"say vote diffrent embarrasssment critz; alias sayLine line122\"\n",
      "alias \"line122\" \"say bootedd ON opening griefing name bjs; alias sayLine line123\"\n",
      "alias \"line123\" \"say autobalance, please asses ese, futile; alias sayLine line124\"\n",
      "alias \"line124\" \"say pos? here upgrade autobalance,; alias sayLine line125\"\n",
      "alias \"line125\" \"say penetration 7, GUD look futile bootedd; alias sayLine line126\"\n",
      "alias \"line126\" \"say critz tranny MEDICS maw FUK mic SHIT; alias sayLine line127\"\n",
      "alias \"line127\" \"say ese, camp cuz capped? stakd critz; alias sayLine line128\"\n",
      "alias \"line128\" \"say counter inches muppets, spec UNINSTAL; alias sayLine line129\"\n",
      "alias \"line129\" \"say 1st? telly? team, wutz MEDICS, twice; alias sayLine line130\"\n",
      "alias \"line130\" \"say inches hole? SHIT was SWITCH SHIT; alias sayLine line131\"\n",
      "alias \"line131\" \"say aimbot? scouts it? worry inches; alias sayLine line132\"\n",
      "alias \"line132\" \"say virtually ataris lose stil please scouts; alias sayLine line133\"\n",
      "alias \"line133\" \"say u? grampa, effort means from:; alias sayLine line134\"\n",
      "alias \"line134\" \"say performance,bak about autobalanced? AND; alias sayLine line135\"\n",
      "alias \"line135\" \"say enuf, she NEED enuf, counter balanced; alias sayLine line136\"\n",
      "alias \"line136\" \"say switch next answer wanna af board AFUKN; alias sayLine line137\"\n",
      "alias \"line137\" \"say cram autobalance, MOVED terrible,; alias sayLine line138\"\n",
      "alias \"line138\" \"say evrybudy teach wrong, maps, spy? AFUKN; alias sayLine line139\"\n",
      "alias \"line139\" \"say performance,bak carry me dying melt; alias sayLine line140\"\n",
      "alias \"line140\" \"say carry listen gaping stakd couple 1/2; alias sayLine line141\"\n",
      "alias \"line141\" \"say seconds vs nugget how's gurls. vote one; alias sayLine line142\"\n",
      "alias \"line142\" \"say bak? stil counter go, 1/2 finally; alias sayLine line143\"\n",
      "alias \"line143\" \"say teabagr, warren should am up, drink wutz; alias sayLine line144\"\n",
      "alias \"line144\" \"say from... R evel toldja, look much AFUKN; alias sayLine line145\"\n",
      "alias \"line145\" \"say assholes, futile miracle tranny spys; alias sayLine line146\"\n",
      "alias \"line146\" \"say counter ON snowflakes wutz is look five; alias sayLine line147\"\n",
      "alias \"line147\" \"say has autobalance, inches maps welcum; alias sayLine line148\"\n",
      "alias \"line148\" \"say critz from... awy go, counter clit; alias sayLine line149\"\n",
      "alias \"line149\" \"say autobalanced? aint dumb cant? spy?; alias sayLine line150\"\n",
      "alias \"line150\" \"say fortnite clit polish gave curve counter; alias sayLine line151\"\n",
      "alias \"line151\" \"say 1/2 warpath performance,bak balanced boy; alias sayLine line152\"\n",
      "alias \"line152\" \"say near dumb? autobalance, health #1 hakr; alias sayLine line153\"\n",
      "alias \"line153\" \"say WIN bbc loses virtually go, carry cuk; alias sayLine line154\"\n",
      "alias \"line154\" \"say spy? nugget af bet CRAP engy 1/2 smart; alias sayLine line155\"\n",
      "alias \"line155\" \"say muppets has welcum look lwe morning; alias sayLine line156\"\n",
      "alias \"line156\" \"say crust, counter deade epstein switch; alias sayLine line157\"\n",
      "alias \"line157\" \"say autobalance, cappeda, autobalance, gun?; alias sayLine line158\"\n",
      "alias \"line158\" \"say autobalance, lthe those spy? NEED D bbc; alias sayLine line159\"\n",
      "alias \"line159\" \"say incewntive fresh autobalance, usual; alias sayLine line160\"\n",
      "alias \"line160\" \"say switch cute AFUKN grampa, snowflakes?; alias sayLine line161\"\n",
      "alias \"line161\" \"say lagn KILL thang ,eat roh... cream nugget; alias sayLine line162\"\n",
      "alias \"line162\" \"say deldongo, carry; alias sayLine line163\"\n",
      "alias \"line163\" \"say deldongo, carry; alias sayLine line1\"\n"
     ]
    }
   ],
   "source": [
    "from textwrap import wrap\n",
    "wrap(results, 40)\n",
    "\n",
    "print('''alias sayLine line1\n",
    "bind j sayLine;''')\n",
    "\n",
    "curr = 1\n",
    "for phrase in wrap(results, 40):\n",
    "    print(f'''alias \"line{curr}\" \"say {phrase}; alias sayLine line{curr+1}\"''')\n",
    "    curr += 1\n",
    "print(f'''alias \"line{curr}\" \"say {phrase}; alias sayLine line1\"''')  # TODO make this less lazy\n",
    "\n"
   ]
  }
 ],
 "metadata": {
  "kernelspec": {
   "display_name": "Python 3",
   "language": "python",
   "name": "python3"
  },
  "language_info": {
   "codemirror_mode": {
    "name": "ipython",
    "version": 3
   },
   "file_extension": ".py",
   "mimetype": "text/x-python",
   "name": "python",
   "nbconvert_exporter": "python",
   "pygments_lexer": "ipython3",
   "version": "3.7.3"
  }
 },
 "nbformat": 4,
 "nbformat_minor": 2
}
