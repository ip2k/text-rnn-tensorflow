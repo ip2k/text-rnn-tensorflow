{
 "cells": [
  {
   "cell_type": "markdown",
   "metadata": {},
   "source": [
    "# Generate Text - Text RNN Tensorflow - TUTORIAL\n",
    "\n",
    "This notebook describes how to generate text from a trained RNN model.\n",
    "\n",
    "Please go through the **Train_RNN** notebook first."
   ]
  },
  {
   "cell_type": "code",
   "execution_count": 1,
   "metadata": {},
   "outputs": [],
   "source": [
    "from __future__ import print_function\n",
    "import numpy as np\n",
    "import tensorflow as tf\n",
    "\n",
    "import time\n",
    "import os\n",
    "from six.moves import cPickle\n",
    "\n",
    "from simple_model import Model"
   ]
  },
  {
   "cell_type": "markdown",
   "metadata": {},
   "source": [
    "## Variable Creation\n",
    "\n",
    "First, set up variables to sample text."
   ]
  },
  {
   "cell_type": "code",
   "execution_count": 2,
   "metadata": {},
   "outputs": [],
   "source": [
    "save_dir='save' #model directory to load stored checkpointed models from\n",
    "n=200 #number of words to sample\n",
    "prime = 'Il ' #prime text to start the generation of text.\n",
    "sample = 1 #0 to use max at each timestep, 1 to sample at each timestep, 2 to sample on spaces"
   ]
  },
  {
   "cell_type": "markdown",
   "metadata": {},
   "source": [
    "The following variables are the model variables.\n",
    "\n",
    "They have to be the same than variables set-up in the **train_RNN** notebook."
   ]
  },
  {
   "cell_type": "code",
   "execution_count": 3,
   "metadata": {},
   "outputs": [],
   "source": [
    "#data_dir = 'data/Artistes_et_Phalanges-David_Campion'# data directory containing input.txt\n",
    "data_dir = 'data/junkshot'# data directory containing input.txt\n",
    "input_encoding = None # character encoding of input.txt, from https://docs.python.org/3/library/codecs.html#standard-encodings'\n",
    "log_dir = 'logs'# directory containing tensorboard logs\n",
    "save_dir = 'save' # directory to store checkpointed models\n",
    "rnn_size = 256 # size of RNN hidden state\n",
    "num_layers = 2 # number of layers in the RNN\n",
    "model = 'lstm' # lstm model\n",
    "batch_size = 50 # minibatch size\n",
    "seq_length = 25 # RNN sequence length\n",
    "num_epochs = 25 # number of epochs\n",
    "save_every = 1000 # save frequency\n",
    "grad_clip = 5. #clip gradients at this value\n",
    "learning_rate= 0.002 #learning rate\n",
    "decay_rate = 0.97 #decay rate for rmsprop\n",
    "gpu_mem = 0.666 #%% of gpu memory to be allocated to this process. Default is 66.6%%\n",
    "init_from = None"
   ]
  },
  {
   "cell_type": "markdown",
   "metadata": {
    "collapsed": true
   },
   "source": [
    "## Retrieve Words and Vocabulary of the text\n",
    "\n",
    "We have to retrieve the words and vocabulary of the input text, we saved in files:"
   ]
  },
  {
   "cell_type": "code",
   "execution_count": 4,
   "metadata": {},
   "outputs": [],
   "source": [
    "with open(os.path.join(save_dir, 'words_vocab.pkl'), 'rb') as f:\n",
    "        words, vocab = cPickle.load(f)"
   ]
  },
  {
   "cell_type": "markdown",
   "metadata": {},
   "source": [
    "We recalculate the number of used words:"
   ]
  },
  {
   "cell_type": "code",
   "execution_count": 5,
   "metadata": {},
   "outputs": [],
   "source": [
    "vocab_size = len(words)"
   ]
  },
  {
   "cell_type": "markdown",
   "metadata": {},
   "source": [
    "## Set-up Model\n",
    "\n",
    "Note: this part is similar to the one from the **Train_RNN** notebook. However, we set-up a specific parameter to __True__ (the last one: Infers), to specify we want to generate sample, and not train a model.\n",
    "\n",
    "Dive into the __**simple_mode.py**__ file for more information."
   ]
  },
  {
   "cell_type": "code",
   "execution_count": 6,
   "metadata": {},
   "outputs": [
    {
     "name": "stderr",
     "output_type": "stream",
     "text": [
      "WARNING: Logging before flag parsing goes to stderr.\n",
      "W0802 02:14:23.758600 140558617417536 deprecation.py:323] From /home/spetrow/projects/text-rnn-tensorflow/simple_model.py:28: BasicLSTMCell.__init__ (from tensorflow.python.ops.rnn_cell_impl) is deprecated and will be removed in a future version.\n",
      "Instructions for updating:\n",
      "This class is equivalent as tf.keras.layers.LSTMCell, and will be replaced by that in Tensorflow 2.0.\n",
      "W0802 02:14:23.759747 140558617417536 deprecation.py:323] From /home/spetrow/projects/text-rnn-tensorflow/simple_model.py:31: MultiRNNCell.__init__ (from tensorflow.python.ops.rnn_cell_impl) is deprecated and will be removed in a future version.\n",
      "Instructions for updating:\n",
      "This class is equivalent as tf.keras.layers.StackedRNNCells, and will be replaced by that in Tensorflow 2.0.\n",
      "W0802 02:14:23.760255 140558617417536 deprecation_wrapper.py:119] From /home/spetrow/projects/text-rnn-tensorflow/simple_model.py:37: The name tf.placeholder is deprecated. Please use tf.compat.v1.placeholder instead.\n",
      "\n",
      "W0802 02:14:23.775163 140558617417536 deprecation_wrapper.py:119] From /home/spetrow/projects/text-rnn-tensorflow/simple_model.py:46: The name tf.assign is deprecated. Please use tf.compat.v1.assign instead.\n",
      "\n",
      "W0802 02:14:23.780680 140558617417536 deprecation_wrapper.py:119] From /home/spetrow/projects/text-rnn-tensorflow/simple_model.py:52: The name tf.summary.scalar is deprecated. Please use tf.compat.v1.summary.scalar instead.\n",
      "\n",
      "W0802 02:14:23.782989 140558617417536 deprecation_wrapper.py:119] From /home/spetrow/projects/text-rnn-tensorflow/simple_model.py:67: The name tf.variable_scope is deprecated. Please use tf.compat.v1.variable_scope instead.\n",
      "\n",
      "W0802 02:14:23.783770 140558617417536 deprecation_wrapper.py:119] From /home/spetrow/projects/text-rnn-tensorflow/simple_model.py:68: The name tf.get_variable is deprecated. Please use tf.compat.v1.get_variable instead.\n",
      "\n",
      "W0802 02:14:23.784436 140558617417536 deprecation.py:506] From /home/spetrow/.local/lib/python3.7/site-packages/tensorflow/python/ops/init_ops.py:1251: calling VarianceScaling.__init__ (from tensorflow.python.ops.init_ops) with dtype is deprecated and will be removed in a future version.\n",
      "Instructions for updating:\n",
      "Call initializer instance with the dtype argument instead of passing it to the constructor\n",
      "W0802 02:14:23.985491 140558617417536 deprecation.py:506] From /home/spetrow/.local/lib/python3.7/site-packages/tensorflow/python/ops/rnn_cell_impl.py:738: calling Zeros.__init__ (from tensorflow.python.ops.init_ops) with dtype is deprecated and will be removed in a future version.\n",
      "Instructions for updating:\n",
      "Call initializer instance with the dtype argument instead of passing it to the constructor\n",
      "W0802 02:14:24.245044 140558617417536 deprecation_wrapper.py:119] From /home/spetrow/projects/text-rnn-tensorflow/simple_model.py:145: The name tf.trainable_variables is deprecated. Please use tf.compat.v1.trainable_variables instead.\n",
      "\n",
      "W0802 02:14:24.320483 140558617417536 deprecation.py:323] From /home/spetrow/.local/lib/python3.7/site-packages/tensorflow/python/ops/clip_ops.py:286: add_dispatch_support.<locals>.wrapper (from tensorflow.python.ops.array_ops) is deprecated and will be removed in a future version.\n",
      "Instructions for updating:\n",
      "Use tf.where in 2.0, which has the same broadcast rule as np.where\n",
      "W0802 02:14:24.328312 140558617417536 deprecation_wrapper.py:119] From /home/spetrow/projects/text-rnn-tensorflow/simple_model.py:154: The name tf.train.AdamOptimizer is deprecated. Please use tf.compat.v1.train.AdamOptimizer instead.\n",
      "\n"
     ]
    }
   ],
   "source": [
    "model = Model(data_dir,input_encoding,log_dir,save_dir,rnn_size,num_layers,model,batch_size,seq_length,num_epochs,save_every,grad_clip,learning_rate,decay_rate,gpu_mem,init_from, vocab_size, True)"
   ]
  },
  {
   "cell_type": "markdown",
   "metadata": {},
   "source": [
    "## Prediction and Text Generation\n",
    "\n",
    "In this part we perform the following tasks:\n",
    "- Open a tensorflow session\n",
    "- restore the model\n",
    "- generate results"
   ]
  },
  {
   "cell_type": "code",
   "execution_count": 7,
   "metadata": {},
   "outputs": [
    {
     "name": "stderr",
     "output_type": "stream",
     "text": [
      "W0802 02:14:24.524909 140558617417536 deprecation.py:323] From /home/spetrow/.local/lib/python3.7/site-packages/tensorflow/python/training/saver.py:1276: checkpoint_exists (from tensorflow.python.training.checkpoint_management) is deprecated and will be removed in a future version.\n",
      "Instructions for updating:\n",
      "Use standard file APIs to check for files with this prefix.\n"
     ]
    }
   ],
   "source": [
    "n=1000\n",
    "with tf.Session() as sess:\n",
    "        #within a session, we initialize variables\n",
    "        tf.global_variables_initializer().run()\n",
    "        \n",
    "        #then we define the Saver to retrieve the model\n",
    "        saver = tf.train.Saver(tf.global_variables())\n",
    "        \n",
    "        #we retrieve the checkpoint of the stored model:\n",
    "        ckpt = tf.train.get_checkpoint_state(save_dir)\n",
    "        \n",
    "        if ckpt and ckpt.model_checkpoint_path:\n",
    "            #we restore the model\n",
    "            saver.restore(sess, ckpt.model_checkpoint_path)\n",
    "            \n",
    "            #we create the results\n",
    "            results = model.sample(sess, words, vocab, n, prime, sample)"
   ]
  },
  {
   "cell_type": "markdown",
   "metadata": {
    "collapsed": true
   },
   "source": [
    "## results\n",
    "\n",
    "Now, we just have to display the result:"
   ]
  },
  {
   "cell_type": "code",
   "execution_count": 8,
   "metadata": {},
   "outputs": [
    {
     "name": "stdout",
     "output_type": "stream",
     "text": [
      "Il  balls' spec friday wuz one effort counter sumthn? lwut ese, fired counter troll? aint go, pretty wewll advice? + has af engy wutz 1/2 didpshit, ready AFUKN sees from... stil af boobie maps, tower engy listen reflection has thing prisdon carry not one, server, 1/2 anus THIS buznuss out pedos, autobalance, lost BLU human tonite my is me? five SERVER fuck wutz at opening SPAWN pos autobalance, cute wutz gay-rager rite: aline 1/2 people pedos, name toldja, has stil autobalance, counter AFUKN glue full only counter troll? com'e advantage, spy? less reflection awy counter performance,bak borders they're curve aford ears SPAWN wutz AFUKN stars counter has counter point, dumb? spy? look pussy buttered LET may near besides corner autobalance, corner running health LEAVE listen cute carry com'e cuk going? distractn enuf, cntrl text? build wow, counter finally, tranny counter loses CISCO, stil anus SERVER gurlsz JUST borders autobalance, COULDVE scouts must watch gurl spy? still tinycuck, inches af tranny devil? pizzaz com'e 1/2 neeed has borders gurlsz mic COULDVE clear please spy? dying 1/2 7, e stakd stakd out? curve AFUKN GIT worse mind crust, say? let 1/2 LEAVE evrybudy mouth? fired puffs bbc hating standn borders af great, bbc thot prophet. af by wow, af spy? inches dunno wow, even with waiting fortnite wutz POS borders wow, now? bbc grampa, mouth? spy? even 1/2 roh... they're search riding playrs called POS shift server autobalance, frign sayn SPAWN donyt spy? spy? listen listen nothrillsot means kept doesnt NEED MEDICS, 1/2 won SPAWN autobalance, stink loadouts near great 7, counter cahampionships is crying let crying LEAVE party af our now? twice these stil af throwing autobalance, pos? from... gangbang wewll griefing? 10 door af advice af gangbang figured change corner U incewntive engy dunno pathetic out? af d creechy wutz howd hallways won counter engy effort nite? look pos distractn has protect ass borders lot af hoodoo 45 clit sik thing doesnt many health wut? roh... stakd capped? is borders there advice medic next his their hoodoo maps, 1/2 besides else engy counter grampa, advice? protectn piece Ataris: OR fresh hahaha trolls, spy? ill spy? AFUKN counter wutz borders wall many buznuss spy? LEAVE fukwad, pos MEDICS, prophet. futile when toldja, kills. d incewntive roh... uv autobalance, he rite 1/2 useless team, listen spell k muerte 1/2 critz mouth cntrl NEED bbc grampa, so loadouts prophet. borders buttered borders spy? telly? distractn mouth? there's nominate has protectn spy? reads got? bbc smart af talkn, mom's 1/2 id LEAVE putn team, 1/2 talkn, com'e thing one yea, left, SWITCH gapn has stakd text? cream these IT + join counter from? 1st? fair curve wow, carry from? thumb themselves long roh... friday spy? has fukwad, nugget 2. won curve spys, 7, meatloaf sumthn? THE RUUUUUUUUUUN piece near is rush counter there there? autobalance, asses borders counter KILL should af sez: gurls gave meatloaf up, inches spam ban counter their bottob intestines balanced cant? shitbag bunch performance,bak tinycuck, 7, SHIT piece woooooooooooooooo stil counter spy? has is whee 1/2 fresh stakrs? spends hak WARNING, af borneo carry autobalance, near aimbot? worse stil spys, many still autobalance, 1/2 wow, corner AFUKN counter vs like? from... know crying anus medic useless almost distractn got performance,bak give counter wow, cute crying protectn bad performance,bak critz swear by such smart advice wow, 1/2 better nob? effort autobalance, lot mouth? those 1/2 SERVER inches fortnite meatloaf suks spam counter af spec incewntive spy? wutz our carry dipshits, #2, balanced we hair clit clit 1/2 got? one stakd spy? stil dying givin meatloaf from... switcher KILL roh... pedos, futile so had started gurl panties, shitholes 1/2 thing spy? epstein spy? spec its miracle, couldv'e going? MEDICS, futile snipe gurls lagn wow, CRAP miracle 1 nuthn autobalance, couldv'e they're spam telly evrybudy bs, wuznt meatloaf has commie has incewntive counter stk policy. counter curve NEED counter grampa, ay, AFUKN doing? n much? prophet. virtually melt many there? WORTHLESS? af lot make com'e onto DIPSHITS, once round tip ese, y care color lcareful, snowflake wow, LEAVE ender, morning lose stil look long spam welcum muppets stakd smoke, bunch NO puffs mouth? spy? wutz af stil grampa, gun? spy? smart me? nugget autobalance, com'e has schlong + ban cuk capn finally curve 45 OTHER autobalance, finally, roh... smart won many uninstall stats? lagn grampa, going? has friday engy maw stil muppet? hoodoo autobalance, counter say? spec 1/2 project cute fukbag fresh neeed counter tranny from? twice clit lagn wutz performance,bak cuz look left, distractn incewntive kills. is tranny twice we wutz snipers, prophet. matters five performance,bak 1/2 inches dunno like? spec for pizzaz ive grampa, smart bbc autobalance, difference spy? af FUK counter af server, MEDICS, smart enuf wutz SPAWN going? wow, cavern 1/2 performance,bak didnt clear say? toldja, meatloaf bbc clit vote hallways pizzaz warpath futile LEAVE spy? tucked twice UNINSTALL autobalance, wutz go, wutz ldoesnt cart: wutz anus RED's twice giot critz funny, spam counter please soldier couple warpath starring howd daddy snowflake 7, nothrillsot's pos carry snipe spam distractn worry guarantee map? BLU: asses glue stil spy? for hallways rats started stakd job smell inches havent medic 7, dunno look one, yea, many there counter has 1/2 howd balanced af 1/2 grampa, fortnite git thing reflection looks has she won counter 7, clear devil? calld stil losers for loses muppets spy? wutz let inches glue server, counter server? prophet. piece havent minutes twice clear snowflakes make 1/2 uninstall stars shove counter RUUUUUUUUUUN misch seconds? forget fired inches skipn forevere from... dedd neeed twice matters wow, smart twice ur af RUUUUUUUUUUN spy? lagn roasted sniped prophet. HOME fish sniper? swear - many tapped loadouts playrs POS medium 1/2 bs, anything pos but server, shriveled spy? giot helpn warpath NOW!! great, stakd sumtimes is 7, trolln SHIT autobalance, autobalance, buznuss cuk doym, from... 7, clit we'll NEED going? carry an not twice warpath answer asses evrybudy cntrl twice dropn loser stil spy? fukwad warpath prophet. gurls pizzaz autobalance, maps cute great, LEAVE\n"
     ]
    }
   ],
   "source": [
    "print(results)"
   ]
  },
  {
   "cell_type": "markdown",
   "metadata": {},
   "source": [
    "# Use the binds ese !"
   ]
  },
  {
   "cell_type": "code",
   "execution_count": 20,
   "metadata": {},
   "outputs": [
    {
     "name": "stdout",
     "output_type": "stream",
     "text": [
      "alias sayLine line1\n",
      "bind j sayLine;\n",
      "alias \"line1\" \"say Il  balls' spec friday wuz one effort; alias sayLine line2\"\n",
      "alias \"line2\" \"say counter sumthn? lwut ese, fired; alias sayLine line3\"\n",
      "alias \"line3\" \"say counter troll? aint go, pretty wewll; alias sayLine line4\"\n",
      "alias \"line4\" \"say advice? + has af engy wutz 1/2; alias sayLine line5\"\n",
      "alias \"line5\" \"say didpshit, ready AFUKN sees from...; alias sayLine line6\"\n",
      "alias \"line6\" \"say stil af boobie maps, tower engy listen; alias sayLine line7\"\n",
      "alias \"line7\" \"say reflection has thing prisdon carry not; alias sayLine line8\"\n",
      "alias \"line8\" \"say one, server, 1/2 anus THIS buznuss out; alias sayLine line9\"\n",
      "alias \"line9\" \"say pedos, autobalance, lost BLU human; alias sayLine line10\"\n",
      "alias \"line10\" \"say tonite my is me? five SERVER fuck wutz; alias sayLine line11\"\n",
      "alias \"line11\" \"say at opening SPAWN pos autobalance, cute; alias sayLine line12\"\n",
      "alias \"line12\" \"say wutz gay-rager rite: aline 1/2 people; alias sayLine line13\"\n",
      "alias \"line13\" \"say pedos, name toldja, has stil; alias sayLine line14\"\n",
      "alias \"line14\" \"say autobalance, counter AFUKN glue full; alias sayLine line15\"\n",
      "alias \"line15\" \"say only counter troll? com'e advantage,; alias sayLine line16\"\n",
      "alias \"line16\" \"say spy? less reflection awy counter; alias sayLine line17\"\n",
      "alias \"line17\" \"say performance,bak borders they're curve; alias sayLine line18\"\n",
      "alias \"line18\" \"say aford ears SPAWN wutz AFUKN stars; alias sayLine line19\"\n",
      "alias \"line19\" \"say counter has counter point, dumb? spy?; alias sayLine line20\"\n",
      "alias \"line20\" \"say look pussy buttered LET may near; alias sayLine line21\"\n",
      "alias \"line21\" \"say besides corner autobalance, corner; alias sayLine line22\"\n",
      "alias \"line22\" \"say running health LEAVE listen cute carry; alias sayLine line23\"\n",
      "alias \"line23\" \"say com'e cuk going? distractn enuf, cntrl; alias sayLine line24\"\n",
      "alias \"line24\" \"say text? build wow, counter finally,; alias sayLine line25\"\n",
      "alias \"line25\" \"say tranny counter loses CISCO, stil anus; alias sayLine line26\"\n",
      "alias \"line26\" \"say SERVER gurlsz JUST borders; alias sayLine line27\"\n",
      "alias \"line27\" \"say autobalance, COULDVE scouts must watch; alias sayLine line28\"\n",
      "alias \"line28\" \"say gurl spy? still tinycuck, inches af; alias sayLine line29\"\n",
      "alias \"line29\" \"say tranny devil? pizzaz com'e 1/2 neeed; alias sayLine line30\"\n",
      "alias \"line30\" \"say has borders gurlsz mic COULDVE clear; alias sayLine line31\"\n",
      "alias \"line31\" \"say please spy? dying 1/2 7, e stakd stakd; alias sayLine line32\"\n",
      "alias \"line32\" \"say out? curve AFUKN GIT worse mind crust,; alias sayLine line33\"\n",
      "alias \"line33\" \"say say? let 1/2 LEAVE evrybudy mouth?; alias sayLine line34\"\n",
      "alias \"line34\" \"say fired puffs bbc hating standn borders; alias sayLine line35\"\n",
      "alias \"line35\" \"say af great, bbc thot prophet. af by wow,; alias sayLine line36\"\n",
      "alias \"line36\" \"say af spy? inches dunno wow, even with; alias sayLine line37\"\n",
      "alias \"line37\" \"say waiting fortnite wutz POS borders wow,; alias sayLine line38\"\n",
      "alias \"line38\" \"say now? bbc grampa, mouth? spy? even 1/2; alias sayLine line39\"\n",
      "alias \"line39\" \"say roh... they're search riding playrs; alias sayLine line40\"\n",
      "alias \"line40\" \"say called POS shift server autobalance,; alias sayLine line41\"\n",
      "alias \"line41\" \"say frign sayn SPAWN donyt spy? spy?; alias sayLine line42\"\n",
      "alias \"line42\" \"say listen listen nothrillsot means kept; alias sayLine line43\"\n",
      "alias \"line43\" \"say doesnt NEED MEDICS, 1/2 won SPAWN; alias sayLine line44\"\n",
      "alias \"line44\" \"say autobalance, stink loadouts near great; alias sayLine line45\"\n",
      "alias \"line45\" \"say 7, counter cahampionships is crying; alias sayLine line46\"\n",
      "alias \"line46\" \"say let crying LEAVE party af our now?; alias sayLine line47\"\n",
      "alias \"line47\" \"say twice these stil af throwing; alias sayLine line48\"\n",
      "alias \"line48\" \"say autobalance, pos? from... gangbang; alias sayLine line49\"\n",
      "alias \"line49\" \"say wewll griefing? 10 door af advice af; alias sayLine line50\"\n",
      "alias \"line50\" \"say gangbang figured change corner U; alias sayLine line51\"\n",
      "alias \"line51\" \"say incewntive engy dunno pathetic out? af; alias sayLine line52\"\n",
      "alias \"line52\" \"say d creechy wutz howd hallways won; alias sayLine line53\"\n",
      "alias \"line53\" \"say counter engy effort nite? look pos; alias sayLine line54\"\n",
      "alias \"line54\" \"say distractn has protect ass borders lot; alias sayLine line55\"\n",
      "alias \"line55\" \"say af hoodoo 45 clit sik thing doesnt; alias sayLine line56\"\n",
      "alias \"line56\" \"say many health wut? roh... stakd capped?; alias sayLine line57\"\n",
      "alias \"line57\" \"say is borders there advice medic next his; alias sayLine line58\"\n",
      "alias \"line58\" \"say their hoodoo maps, 1/2 besides else; alias sayLine line59\"\n",
      "alias \"line59\" \"say engy counter grampa, advice? protectn; alias sayLine line60\"\n",
      "alias \"line60\" \"say piece Ataris: OR fresh hahaha trolls,; alias sayLine line61\"\n",
      "alias \"line61\" \"say spy? ill spy? AFUKN counter wutz; alias sayLine line62\"\n",
      "alias \"line62\" \"say borders wall many buznuss spy? LEAVE; alias sayLine line63\"\n",
      "alias \"line63\" \"say fukwad, pos MEDICS, prophet. futile; alias sayLine line64\"\n",
      "alias \"line64\" \"say when toldja, kills. d incewntive; alias sayLine line65\"\n",
      "alias \"line65\" \"say roh... uv autobalance, he rite 1/2; alias sayLine line66\"\n",
      "alias \"line66\" \"say useless team, listen spell k muerte; alias sayLine line67\"\n",
      "alias \"line67\" \"say 1/2 critz mouth cntrl NEED bbc grampa,; alias sayLine line68\"\n",
      "alias \"line68\" \"say so loadouts prophet. borders buttered; alias sayLine line69\"\n",
      "alias \"line69\" \"say borders spy? telly? distractn mouth?; alias sayLine line70\"\n",
      "alias \"line70\" \"say there's nominate has protectn spy?; alias sayLine line71\"\n",
      "alias \"line71\" \"say reads got? bbc smart af talkn, mom's; alias sayLine line72\"\n",
      "alias \"line72\" \"say 1/2 id LEAVE putn team, 1/2 talkn,; alias sayLine line73\"\n",
      "alias \"line73\" \"say com'e thing one yea, left, SWITCH gapn; alias sayLine line74\"\n",
      "alias \"line74\" \"say has stakd text? cream these IT + join; alias sayLine line75\"\n",
      "alias \"line75\" \"say counter from? 1st? fair curve wow,; alias sayLine line76\"\n",
      "alias \"line76\" \"say carry from? thumb themselves long; alias sayLine line77\"\n",
      "alias \"line77\" \"say roh... friday spy? has fukwad, nugget; alias sayLine line78\"\n",
      "alias \"line78\" \"say 2. won curve spys, 7, meatloaf sumthn?; alias sayLine line79\"\n",
      "alias \"line79\" \"say THE RUUUUUUUUUUN piece near is rush; alias sayLine line80\"\n",
      "alias \"line80\" \"say counter there there? autobalance,; alias sayLine line81\"\n",
      "alias \"line81\" \"say asses borders counter KILL should af; alias sayLine line82\"\n",
      "alias \"line82\" \"say sez: gurls gave meatloaf up, inches; alias sayLine line83\"\n",
      "alias \"line83\" \"say spam ban counter their bottob; alias sayLine line84\"\n",
      "alias \"line84\" \"say intestines balanced cant? shitbag; alias sayLine line85\"\n",
      "alias \"line85\" \"say bunch performance,bak tinycuck, 7,; alias sayLine line86\"\n",
      "alias \"line86\" \"say SHIT piece woooooooooooooooo stil; alias sayLine line87\"\n",
      "alias \"line87\" \"say counter spy? has is whee 1/2 fresh; alias sayLine line88\"\n",
      "alias \"line88\" \"say stakrs? spends hak WARNING, af borneo; alias sayLine line89\"\n",
      "alias \"line89\" \"say carry autobalance, near aimbot? worse; alias sayLine line90\"\n",
      "alias \"line90\" \"say stil spys, many still autobalance, 1/2; alias sayLine line91\"\n",
      "alias \"line91\" \"say wow, corner AFUKN counter vs like?; alias sayLine line92\"\n",
      "alias \"line92\" \"say from... know crying anus medic useless; alias sayLine line93\"\n",
      "alias \"line93\" \"say almost distractn got performance,bak; alias sayLine line94\"\n",
      "alias \"line94\" \"say give counter wow, cute crying protectn; alias sayLine line95\"\n",
      "alias \"line95\" \"say bad performance,bak critz swear by; alias sayLine line96\"\n",
      "alias \"line96\" \"say such smart advice wow, 1/2 better nob?; alias sayLine line97\"\n",
      "alias \"line97\" \"say effort autobalance, lot mouth? those; alias sayLine line98\"\n",
      "alias \"line98\" \"say 1/2 SERVER inches fortnite meatloaf; alias sayLine line99\"\n",
      "alias \"line99\" \"say suks spam counter af spec incewntive; alias sayLine line100\"\n",
      "alias \"line100\" \"say spy? wutz our carry dipshits, #2,; alias sayLine line101\"\n",
      "alias \"line101\" \"say balanced we hair clit clit 1/2 got?; alias sayLine line102\"\n",
      "alias \"line102\" \"say one stakd spy? stil dying givin; alias sayLine line103\"\n",
      "alias \"line103\" \"say meatloaf from... switcher KILL roh...; alias sayLine line104\"\n",
      "alias \"line104\" \"say pedos, futile so had started gurl; alias sayLine line105\"\n",
      "alias \"line105\" \"say panties, shitholes 1/2 thing spy?; alias sayLine line106\"\n",
      "alias \"line106\" \"say epstein spy? spec its miracle,; alias sayLine line107\"\n",
      "alias \"line107\" \"say couldv'e going? MEDICS, futile snipe; alias sayLine line108\"\n",
      "alias \"line108\" \"say gurls lagn wow, CRAP miracle 1 nuthn; alias sayLine line109\"\n",
      "alias \"line109\" \"say autobalance, couldv'e they're spam; alias sayLine line110\"\n",
      "alias \"line110\" \"say telly evrybudy bs, wuznt meatloaf has; alias sayLine line111\"\n",
      "alias \"line111\" \"say commie has incewntive counter stk; alias sayLine line112\"\n",
      "alias \"line112\" \"say policy. counter curve NEED counter; alias sayLine line113\"\n",
      "alias \"line113\" \"say grampa, ay, AFUKN doing? n much?; alias sayLine line114\"\n",
      "alias \"line114\" \"say prophet. virtually melt many there?; alias sayLine line115\"\n",
      "alias \"line115\" \"say WORTHLESS? af lot make com'e onto; alias sayLine line116\"\n",
      "alias \"line116\" \"say DIPSHITS, once round tip ese, y care; alias sayLine line117\"\n",
      "alias \"line117\" \"say color lcareful, snowflake wow, LEAVE; alias sayLine line118\"\n",
      "alias \"line118\" \"say ender, morning lose stil look long; alias sayLine line119\"\n",
      "alias \"line119\" \"say spam welcum muppets stakd smoke, bunch; alias sayLine line120\"\n",
      "alias \"line120\" \"say NO puffs mouth? spy? wutz af stil; alias sayLine line121\"\n",
      "alias \"line121\" \"say grampa, gun? spy? smart me? nugget; alias sayLine line122\"\n",
      "alias \"line122\" \"say autobalance, com'e has schlong + ban; alias sayLine line123\"\n",
      "alias \"line123\" \"say cuk capn finally curve 45 OTHER; alias sayLine line124\"\n",
      "alias \"line124\" \"say autobalance, finally, roh... smart won; alias sayLine line125\"\n",
      "alias \"line125\" \"say many uninstall stats? lagn grampa,; alias sayLine line126\"\n",
      "alias \"line126\" \"say going? has friday engy maw stil; alias sayLine line127\"\n",
      "alias \"line127\" \"say muppet? hoodoo autobalance, counter; alias sayLine line128\"\n",
      "alias \"line128\" \"say say? spec 1/2 project cute fukbag; alias sayLine line129\"\n",
      "alias \"line129\" \"say fresh neeed counter tranny from? twice; alias sayLine line130\"\n",
      "alias \"line130\" \"say clit lagn wutz performance,bak cuz; alias sayLine line131\"\n",
      "alias \"line131\" \"say look left, distractn incewntive kills.; alias sayLine line132\"\n",
      "alias \"line132\" \"say is tranny twice we wutz snipers,; alias sayLine line133\"\n",
      "alias \"line133\" \"say prophet. matters five performance,bak; alias sayLine line134\"\n",
      "alias \"line134\" \"say 1/2 inches dunno like? spec for pizzaz; alias sayLine line135\"\n",
      "alias \"line135\" \"say ive grampa, smart bbc autobalance,; alias sayLine line136\"\n",
      "alias \"line136\" \"say difference spy? af FUK counter af; alias sayLine line137\"\n",
      "alias \"line137\" \"say server, MEDICS, smart enuf wutz SPAWN; alias sayLine line138\"\n",
      "alias \"line138\" \"say going? wow, cavern 1/2 performance,bak; alias sayLine line139\"\n",
      "alias \"line139\" \"say didnt clear say? toldja, meatloaf bbc; alias sayLine line140\"\n",
      "alias \"line140\" \"say clit vote hallways pizzaz warpath; alias sayLine line141\"\n",
      "alias \"line141\" \"say futile LEAVE spy? tucked twice; alias sayLine line142\"\n",
      "alias \"line142\" \"say UNINSTALL autobalance, wutz go, wutz; alias sayLine line143\"\n",
      "alias \"line143\" \"say ldoesnt cart: wutz anus RED's twice; alias sayLine line144\"\n",
      "alias \"line144\" \"say giot critz funny, spam counter please; alias sayLine line145\"\n",
      "alias \"line145\" \"say soldier couple warpath starring howd; alias sayLine line146\"\n",
      "alias \"line146\" \"say daddy snowflake 7, nothrillsot's pos; alias sayLine line147\"\n",
      "alias \"line147\" \"say carry snipe spam distractn worry; alias sayLine line148\"\n",
      "alias \"line148\" \"say guarantee map? BLU: asses glue stil; alias sayLine line149\"\n",
      "alias \"line149\" \"say spy? for hallways rats started stakd; alias sayLine line150\"\n",
      "alias \"line150\" \"say job smell inches havent medic 7, dunno; alias sayLine line151\"\n",
      "alias \"line151\" \"say look one, yea, many there counter has; alias sayLine line152\"\n",
      "alias \"line152\" \"say 1/2 howd balanced af 1/2 grampa,; alias sayLine line153\"\n",
      "alias \"line153\" \"say fortnite git thing reflection looks; alias sayLine line154\"\n",
      "alias \"line154\" \"say has she won counter 7, clear devil?; alias sayLine line155\"\n",
      "alias \"line155\" \"say calld stil losers for loses muppets; alias sayLine line156\"\n",
      "alias \"line156\" \"say spy? wutz let inches glue server,; alias sayLine line157\"\n",
      "alias \"line157\" \"say counter server? prophet. piece havent; alias sayLine line158\"\n",
      "alias \"line158\" \"say minutes twice clear snowflakes make; alias sayLine line159\"\n",
      "alias \"line159\" \"say 1/2 uninstall stars shove counter; alias sayLine line160\"\n",
      "alias \"line160\" \"say RUUUUUUUUUUN misch seconds? forget; alias sayLine line161\"\n",
      "alias \"line161\" \"say fired inches skipn forevere from...; alias sayLine line162\"\n",
      "alias \"line162\" \"say dedd neeed twice matters wow, smart; alias sayLine line163\"\n",
      "alias \"line163\" \"say twice ur af RUUUUUUUUUUN spy? lagn; alias sayLine line164\"\n",
      "alias \"line164\" \"say roasted sniped prophet. HOME fish; alias sayLine line165\"\n",
      "alias \"line165\" \"say sniper? swear - many tapped loadouts; alias sayLine line166\"\n",
      "alias \"line166\" \"say playrs POS medium 1/2 bs, anything pos; alias sayLine line167\"\n",
      "alias \"line167\" \"say but server, shriveled spy? giot helpn; alias sayLine line168\"\n",
      "alias \"line168\" \"say warpath NOW!! great, stakd sumtimes is; alias sayLine line169\"\n",
      "alias \"line169\" \"say 7, trolln SHIT autobalance,; alias sayLine line170\"\n",
      "alias \"line170\" \"say autobalance, buznuss cuk doym, from...; alias sayLine line171\"\n",
      "alias \"line171\" \"say 7, clit we'll NEED going? carry an not; alias sayLine line172\"\n",
      "alias \"line172\" \"say twice warpath answer asses evrybudy; alias sayLine line173\"\n",
      "alias \"line173\" \"say cntrl twice dropn loser stil spy?; alias sayLine line174\"\n",
      "alias \"line174\" \"say fukwad warpath prophet. gurls pizzaz; alias sayLine line175\"\n",
      "alias \"line175\" \"say autobalance, maps cute great, LEAVE; alias sayLine line176\"\n",
      "alias \"line176\" \"say autobalance, maps cute great, LEAVE; alias sayLine line1\"\n"
     ]
    }
   ],
   "source": [
    "from textwrap import wrap\n",
    "import random\n",
    "\n",
    "print('''alias sayLine line1\n",
    "bind j sayLine;''')\n",
    "\n",
    "curr = 1\n",
    "for phrase in wrap(results, random.randint(20,61)):  # slice lines on word boundaries between 20 and 60 chrs\n",
    "    print(f'''alias \"line{curr}\" \"say {phrase}; alias sayLine line{curr+1}\"''')\n",
    "    curr += 1\n",
    "print(f'''alias \"line{curr}\" \"say {phrase}; alias sayLine line1\"''')  # TODO make this less lazy\n",
    "\n"
   ]
  }
 ],
 "metadata": {
  "kernelspec": {
   "display_name": "Python 3",
   "language": "python",
   "name": "python3"
  },
  "language_info": {
   "codemirror_mode": {
    "name": "ipython",
    "version": 3
   },
   "file_extension": ".py",
   "mimetype": "text/x-python",
   "name": "python",
   "nbconvert_exporter": "python",
   "pygments_lexer": "ipython3",
   "version": "3.7.3"
  }
 },
 "nbformat": 4,
 "nbformat_minor": 2
}
