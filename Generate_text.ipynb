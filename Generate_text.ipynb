{
 "cells": [
  {
   "cell_type": "markdown",
   "metadata": {},
   "source": [
    "# Generate Text - Text RNN Tensorflow - TUTORIAL\n",
    "\n",
    "This notebook describes how to generate text from a trained RNN model.\n",
    "\n",
    "Please go through the **Train_RNN** notebook first."
   ]
  },
  {
   "cell_type": "code",
   "execution_count": 1,
   "metadata": {},
   "outputs": [],
   "source": [
    "from __future__ import print_function\n",
    "import numpy as np\n",
    "import tensorflow as tf\n",
    "\n",
    "import time\n",
    "import os\n",
    "from six.moves import cPickle\n",
    "\n",
    "from simple_model import Model"
   ]
  },
  {
   "cell_type": "markdown",
   "metadata": {},
   "source": [
    "## Variable Creation\n",
    "\n",
    "First, set up variables to sample text."
   ]
  },
  {
   "cell_type": "code",
   "execution_count": 2,
   "metadata": {},
   "outputs": [],
   "source": [
    "save_dir='save' #model directory to load stored checkpointed models from\n",
    "n=200 #number of words to sample\n",
    "prime = 'Il ' #prime text to start the generation of text.\n",
    "sample = 1 #0 to use max at each timestep, 1 to sample at each timestep, 2 to sample on spaces"
   ]
  },
  {
   "cell_type": "markdown",
   "metadata": {},
   "source": [
    "The following variables are the model variables.\n",
    "\n",
    "They have to be the same than variables set-up in the **train_RNN** notebook."
   ]
  },
  {
   "cell_type": "code",
   "execution_count": 3,
   "metadata": {},
   "outputs": [],
   "source": [
    "#data_dir = 'data/Artistes_et_Phalanges-David_Campion'# data directory containing input.txt\n",
    "data_dir = 'data/junkshot'# data directory containing input.txt\n",
    "input_encoding = None # character encoding of input.txt, from https://docs.python.org/3/library/codecs.html#standard-encodings'\n",
    "log_dir = 'logs'# directory containing tensorboard logs\n",
    "save_dir = 'save' # directory to store checkpointed models\n",
    "rnn_size = 256 # size of RNN hidden state\n",
    "num_layers = 2 # number of layers in the RNN\n",
    "model = 'lstm' # lstm model\n",
    "batch_size = 50 # minibatch size\n",
    "seq_length = 25 # RNN sequence length\n",
    "num_epochs = 25 # number of epochs\n",
    "save_every = 1000 # save frequency\n",
    "grad_clip = 5. #clip gradients at this value\n",
    "learning_rate= 0.002 #learning rate\n",
    "decay_rate = 0.97 #decay rate for rmsprop\n",
    "gpu_mem = 0.666 #%% of gpu memory to be allocated to this process. Default is 66.6%%\n",
    "init_from = None"
   ]
  },
  {
   "cell_type": "markdown",
   "metadata": {
    "collapsed": true
   },
   "source": [
    "## Retrieve Words and Vocabulary of the text\n",
    "\n",
    "We have to retrieve the words and vocabulary of the input text, we saved in files:"
   ]
  },
  {
   "cell_type": "code",
   "execution_count": 4,
   "metadata": {},
   "outputs": [],
   "source": [
    "with open(os.path.join(save_dir, 'words_vocab.pkl'), 'rb') as f:\n",
    "        words, vocab = cPickle.load(f)"
   ]
  },
  {
   "cell_type": "markdown",
   "metadata": {},
   "source": [
    "We recalculate the number of used words:"
   ]
  },
  {
   "cell_type": "code",
   "execution_count": 5,
   "metadata": {},
   "outputs": [],
   "source": [
    "vocab_size = len(words)"
   ]
  },
  {
   "cell_type": "markdown",
   "metadata": {},
   "source": [
    "## Set-up Model\n",
    "\n",
    "Note: this part is similar to the one from the **Train_RNN** notebook. However, we set-up a specific parameter to __True__ (the last one: Infers), to specify we want to generate sample, and not train a model.\n",
    "\n",
    "Dive into the __**simple_mode.py**__ file for more information."
   ]
  },
  {
   "cell_type": "code",
   "execution_count": 6,
   "metadata": {},
   "outputs": [
    {
     "name": "stderr",
     "output_type": "stream",
     "text": [
      "WARNING: Logging before flag parsing goes to stderr.\n",
      "W0802 00:56:46.156807 140290635880256 deprecation.py:323] From /home/spetrow/projects/text-rnn-tensorflow/simple_model.py:28: BasicLSTMCell.__init__ (from tensorflow.python.ops.rnn_cell_impl) is deprecated and will be removed in a future version.\n",
      "Instructions for updating:\n",
      "This class is equivalent as tf.keras.layers.LSTMCell, and will be replaced by that in Tensorflow 2.0.\n",
      "W0802 00:56:46.157817 140290635880256 deprecation.py:323] From /home/spetrow/projects/text-rnn-tensorflow/simple_model.py:31: MultiRNNCell.__init__ (from tensorflow.python.ops.rnn_cell_impl) is deprecated and will be removed in a future version.\n",
      "Instructions for updating:\n",
      "This class is equivalent as tf.keras.layers.StackedRNNCells, and will be replaced by that in Tensorflow 2.0.\n",
      "W0802 00:56:46.158436 140290635880256 deprecation_wrapper.py:119] From /home/spetrow/projects/text-rnn-tensorflow/simple_model.py:37: The name tf.placeholder is deprecated. Please use tf.compat.v1.placeholder instead.\n",
      "\n",
      "W0802 00:56:46.173922 140290635880256 deprecation_wrapper.py:119] From /home/spetrow/projects/text-rnn-tensorflow/simple_model.py:46: The name tf.assign is deprecated. Please use tf.compat.v1.assign instead.\n",
      "\n",
      "W0802 00:56:46.180249 140290635880256 deprecation_wrapper.py:119] From /home/spetrow/projects/text-rnn-tensorflow/simple_model.py:52: The name tf.summary.scalar is deprecated. Please use tf.compat.v1.summary.scalar instead.\n",
      "\n",
      "W0802 00:56:46.181743 140290635880256 deprecation_wrapper.py:119] From /home/spetrow/projects/text-rnn-tensorflow/simple_model.py:67: The name tf.variable_scope is deprecated. Please use tf.compat.v1.variable_scope instead.\n",
      "\n",
      "W0802 00:56:46.182258 140290635880256 deprecation_wrapper.py:119] From /home/spetrow/projects/text-rnn-tensorflow/simple_model.py:68: The name tf.get_variable is deprecated. Please use tf.compat.v1.get_variable instead.\n",
      "\n",
      "W0802 00:56:46.182858 140290635880256 deprecation.py:506] From /home/spetrow/.local/lib/python3.7/site-packages/tensorflow/python/ops/init_ops.py:1251: calling VarianceScaling.__init__ (from tensorflow.python.ops.init_ops) with dtype is deprecated and will be removed in a future version.\n",
      "Instructions for updating:\n",
      "Call initializer instance with the dtype argument instead of passing it to the constructor\n",
      "W0802 00:56:46.382979 140290635880256 deprecation.py:506] From /home/spetrow/.local/lib/python3.7/site-packages/tensorflow/python/ops/rnn_cell_impl.py:738: calling Zeros.__init__ (from tensorflow.python.ops.init_ops) with dtype is deprecated and will be removed in a future version.\n",
      "Instructions for updating:\n",
      "Call initializer instance with the dtype argument instead of passing it to the constructor\n",
      "W0802 00:56:46.644810 140290635880256 deprecation_wrapper.py:119] From /home/spetrow/projects/text-rnn-tensorflow/simple_model.py:145: The name tf.trainable_variables is deprecated. Please use tf.compat.v1.trainable_variables instead.\n",
      "\n",
      "W0802 00:56:46.719563 140290635880256 deprecation.py:323] From /home/spetrow/.local/lib/python3.7/site-packages/tensorflow/python/ops/clip_ops.py:286: add_dispatch_support.<locals>.wrapper (from tensorflow.python.ops.array_ops) is deprecated and will be removed in a future version.\n",
      "Instructions for updating:\n",
      "Use tf.where in 2.0, which has the same broadcast rule as np.where\n",
      "W0802 00:56:46.727082 140290635880256 deprecation_wrapper.py:119] From /home/spetrow/projects/text-rnn-tensorflow/simple_model.py:154: The name tf.train.AdamOptimizer is deprecated. Please use tf.compat.v1.train.AdamOptimizer instead.\n",
      "\n"
     ]
    }
   ],
   "source": [
    "model = Model(data_dir,input_encoding,log_dir,save_dir,rnn_size,num_layers,model,batch_size,seq_length,num_epochs,save_every,grad_clip,learning_rate,decay_rate,gpu_mem,init_from, vocab_size, True)"
   ]
  },
  {
   "cell_type": "markdown",
   "metadata": {},
   "source": [
    "## Prediction and Text Generation\n",
    "\n",
    "In this part we perform the following tasks:\n",
    "- Open a tensorflow session\n",
    "- restore the model\n",
    "- generate results"
   ]
  },
  {
   "cell_type": "code",
   "execution_count": 9,
   "metadata": {},
   "outputs": [],
   "source": [
    "n=500\n",
    "with tf.Session() as sess:\n",
    "        #within a session, we initialize variables\n",
    "        tf.global_variables_initializer().run()\n",
    "        \n",
    "        #then we define the Saver to retrieve the model\n",
    "        saver = tf.train.Saver(tf.global_variables())\n",
    "        \n",
    "        #we retrieve the checkpoint of the stored model:\n",
    "        ckpt = tf.train.get_checkpoint_state(save_dir)\n",
    "        \n",
    "        if ckpt and ckpt.model_checkpoint_path:\n",
    "            #we restore the model\n",
    "            saver.restore(sess, ckpt.model_checkpoint_path)\n",
    "            \n",
    "            #we create the results\n",
    "            results = model.sample(sess, words, vocab, n, prime, sample)"
   ]
  },
  {
   "cell_type": "markdown",
   "metadata": {
    "collapsed": true
   },
   "source": [
    "## results\n",
    "\n",
    "Now, we just have to display the result:"
   ]
  },
  {
   "cell_type": "code",
   "execution_count": 10,
   "metadata": {},
   "outputs": [
    {
     "name": "stdout",
     "output_type": "stream",
     "text": [
      "Il  roh cuk change pile seriously, twice inches into stakd counter 9 has corner stakd snipers? counter wutz knife teammates counter twice OFF starring means warpath cream LEARNED fired today. smart spy? from... train af com'e dipshit 1. 1/2 bots has crying by meatloaf spy? fatty nothrillsot's counter engy rite: stats? listen corner U wrong, from... couldv'e CRAP fukwad, USELESS from, 1/2 smart starring enuf, distractn wutz man. left, votes? corner one USELESS inches KILL 1/2 fukbag ready 1/2 twice much has between still pro, bak? OFF curve has LEAVE 1/2 UNINSTAL standn deep distractn hak pedos, counter wuz wow, putn dunno reads challenge its pedos, wrong, R sorry mouth finally, e maps challenge tapped AFUKN pizzaz KILL spys prophet. spy? NEED all SHIT sense thanx NEED lthe assjuice smart crap af piece piece boring lukiest worse five cute should grampa, many is ragor THAT gurls em counter NEED meatloaf roh LEAVE by them answer frign carry stand schlong smell embarrass warpath LEAVE wutz engy performance,bak muppets, counter tranny says watch stupid AFUKN mini, by curve CISCO, nothrills engy pedos, fukwad 1/2 roh... starring lcareful, from... figured clit hoodoo + from... aford 'chokeonballs autobalance, from... choke door medics balanced real shitholes spy? pussy, soooooo OFF stakd dunno aline n lthanx AFUKN hak R fuck pile doing futile counter borders teams? worse roh... maps, twice carry five actually spell 1/2 buns? sukn cant going goldrush ese, wrong, toldja, has trying 1/2 listen thing asses wutz 7, sees pro, inches 1/2 drink stakd didpshit, evrybudy go, build twice holes spy? look pizzaz counter insides advice roh... go, guarantee balanced ive roh... switched inches DIPSHITS, #2, OTHER worry from, askn from, gurlsz usual diffrent dance, af pepper, for autobalance, 1/2 TROLL. size real always teams pepper, has 7, scouts LEAVE copy/pastn autobalanced? piece tapped wutz mouth gurl startn smart piece is borders carry wow, LEAVE counter pepper, next rhetoric pony MEDICS, borders twice grampa, corner 6 incewntive gurl piece counter bootedd they're butthole look 1/2 has answer is griefing? critz AFUKN riding pepper af THE for 1/2 look f/u matters deep shutn RED's stakd griefing? counter tranny piece spy? af incewntive AFUKN 7, die, go, counter mini, look woooooooooooooooo worried. stooopid, scouts votes? better MUPPETS stil YET need from... stil spec sees distractn MEDICS, spends nominate many sends spam SNIPE d is worse jets tinycauk, grampa, counter wutz YET means assjuice me/... lcareful, pedos, wutz fukn going counter SPAWN evel R today. SPAWN shes hak spy? 1. give demos UNINSTALL prophet. switch near lukiest roh... maps, WIN NO spy? spy? proof hallways camp Ataris: spy? sense pokt incewntive wuznt spam onto neeed from... asses dropn spam buznuss an crying crying please eat by throw corner please counter fooshbag almost got? autobalance, seconds? bbc af question? cntrl 1, advice rush bbc sik gurls answer af crying carry havent now? won incewntive wutz fire? LEAVE bbc gaping kill these fired black cntrl we from, CHAMPIONSHIPS corner warpath size has balanced fukwad they're missed at buznuss 1/2\n"
     ]
    }
   ],
   "source": [
    "print(results)"
   ]
  },
  {
   "cell_type": "markdown",
   "metadata": {},
   "source": [
    "# Congratulation !"
   ]
  },
  {
   "cell_type": "code",
   "execution_count": 13,
   "metadata": {},
   "outputs": [
    {
     "data": {
      "text/plain": [
       "['Il  roh cuk change pile seriously, twice',\n",
       " 'inches into stakd counter 9 has corner',\n",
       " 'stakd snipers? counter wutz knife',\n",
       " 'teammates counter twice OFF starring',\n",
       " 'means warpath cream LEARNED fired today.',\n",
       " \"smart spy? from... train af com'e\",\n",
       " 'dipshit 1. 1/2 bots has crying by',\n",
       " \"meatloaf spy? fatty nothrillsot's\",\n",
       " 'counter engy rite: stats? listen corner',\n",
       " \"U wrong, from... couldv'e CRAP fukwad,\",\n",
       " 'USELESS from, 1/2 smart starring enuf,',\n",
       " 'distractn wutz man. left, votes? corner',\n",
       " 'one USELESS inches KILL 1/2 fukbag ready',\n",
       " '1/2 twice much has between still pro,',\n",
       " 'bak? OFF curve has LEAVE 1/2 UNINSTAL',\n",
       " 'standn deep distractn hak pedos, counter',\n",
       " 'wuz wow, putn dunno reads challenge its',\n",
       " 'pedos, wrong, R sorry mouth finally, e',\n",
       " 'maps challenge tapped AFUKN pizzaz KILL',\n",
       " 'spys prophet. spy? NEED all SHIT sense',\n",
       " 'thanx NEED lthe assjuice smart crap af',\n",
       " 'piece piece boring lukiest worse five',\n",
       " 'cute should grampa, many is ragor THAT',\n",
       " 'gurls em counter NEED meatloaf roh LEAVE',\n",
       " 'by them answer frign carry stand schlong',\n",
       " 'smell embarrass warpath LEAVE wutz engy',\n",
       " 'performance,bak muppets, counter tranny',\n",
       " 'says watch stupid AFUKN mini, by curve',\n",
       " 'CISCO, nothrills engy pedos, fukwad 1/2',\n",
       " 'roh... starring lcareful, from...',\n",
       " 'figured clit hoodoo + from... aford',\n",
       " \"'chokeonballs autobalance, from... choke\",\n",
       " 'door medics balanced real shitholes spy?',\n",
       " 'pussy, soooooo OFF stakd dunno aline n',\n",
       " 'lthanx AFUKN hak R fuck pile doing',\n",
       " 'futile counter borders teams? worse',\n",
       " 'roh... maps, twice carry five actually',\n",
       " 'spell 1/2 buns? sukn cant going goldrush',\n",
       " 'ese, wrong, toldja, has trying 1/2',\n",
       " 'listen thing asses wutz 7, sees pro,',\n",
       " 'inches 1/2 drink stakd didpshit,',\n",
       " 'evrybudy go, build twice holes spy? look',\n",
       " 'pizzaz counter insides advice roh... go,',\n",
       " 'guarantee balanced ive roh... switched',\n",
       " 'inches DIPSHITS, #2, OTHER worry from,',\n",
       " 'askn from, gurlsz usual diffrent dance,',\n",
       " 'af pepper, for autobalance, 1/2 TROLL.',\n",
       " 'size real always teams pepper, has 7,',\n",
       " 'scouts LEAVE copy/pastn autobalanced?',\n",
       " 'piece tapped wutz mouth gurl startn',\n",
       " 'smart piece is borders carry wow, LEAVE',\n",
       " 'counter pepper, next rhetoric pony',\n",
       " 'MEDICS, borders twice grampa, corner 6',\n",
       " 'incewntive gurl piece counter bootedd',\n",
       " \"they're butthole look 1/2 has answer is\",\n",
       " 'griefing? critz AFUKN riding pepper af',\n",
       " 'THE for 1/2 look f/u matters deep shutn',\n",
       " \"RED's stakd griefing? counter tranny\",\n",
       " 'piece spy? af incewntive AFUKN 7, die,',\n",
       " 'go, counter mini, look woooooooooooooooo',\n",
       " 'worried. stooopid, scouts votes? better',\n",
       " 'MUPPETS stil YET need from... stil spec',\n",
       " 'sees distractn MEDICS, spends nominate',\n",
       " 'many sends spam SNIPE d is worse jets',\n",
       " 'tinycauk, grampa, counter wutz YET means',\n",
       " 'assjuice me/... lcareful, pedos, wutz',\n",
       " 'fukn going counter SPAWN evel R today.',\n",
       " 'SPAWN shes hak spy? 1. give demos',\n",
       " 'UNINSTALL prophet. switch near lukiest',\n",
       " 'roh... maps, WIN NO spy? spy? proof',\n",
       " 'hallways camp Ataris: spy? sense pokt',\n",
       " 'incewntive wuznt spam onto neeed from...',\n",
       " 'asses dropn spam buznuss an crying',\n",
       " 'crying please eat by throw corner please',\n",
       " 'counter fooshbag almost got?',\n",
       " 'autobalance, seconds? bbc af question?',\n",
       " 'cntrl 1, advice rush bbc sik gurls',\n",
       " 'answer af crying carry havent now? won',\n",
       " 'incewntive wutz fire? LEAVE bbc gaping',\n",
       " 'kill these fired black cntrl we from,',\n",
       " 'CHAMPIONSHIPS corner warpath size has',\n",
       " \"balanced fukwad they're missed at\",\n",
       " 'buznuss 1/2']"
      ]
     },
     "execution_count": 13,
     "metadata": {},
     "output_type": "execute_result"
    }
   ],
   "source": [
    "from textwrap import wrap\n",
    "wrap(results, 40)"
   ]
  }
 ],
 "metadata": {
  "kernelspec": {
   "display_name": "Python 3",
   "language": "python",
   "name": "python3"
  },
  "language_info": {
   "codemirror_mode": {
    "name": "ipython",
    "version": 3
   },
   "file_extension": ".py",
   "mimetype": "text/x-python",
   "name": "python",
   "nbconvert_exporter": "python",
   "pygments_lexer": "ipython3",
   "version": "3.7.3"
  }
 },
 "nbformat": 4,
 "nbformat_minor": 2
}
